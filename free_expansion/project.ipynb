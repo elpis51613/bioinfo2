!git clone https://github.com/hyeshik/colab-biolab.git
!cd colab-biolab && bash tools/setup.sh
exec(open('colab-biolab/tools/activate_conda.py').read())

!conda install -y bedtools bioawk samtools

import pandas as pd
import re
